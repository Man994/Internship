{
 "cells": [
  {
   "cell_type": "markdown",
   "id": "6ac35d0a",
   "metadata": {},
   "source": [
    "# Question 1- Write a Python program to replace all occurrences of a space, comma, or dot with a colon.\n",
    "Sample Text- 'Python Exercises, PHP exercises.'\n",
    "Expected Output: Python:Exercises::PHP:exercises:"
   ]
  },
  {
   "cell_type": "code",
   "execution_count": 9,
   "id": "0c1253ec",
   "metadata": {},
   "outputs": [
    {
     "name": "stdout",
     "output_type": "stream",
     "text": [
      "Python:Exercises::PHP:exercises:\n"
     ]
    }
   ],
   "source": [
    "import re\n",
    "def replace_with(text):    \n",
    "    text = text.replace(' ', ':').replace(',', ':').replace('.', ':')\n",
    "    return text\n",
    "\n",
    "sample_text = 'Python Exercises, PHP exercises.'\n",
    "result = replace_with(sample_text)\n",
    "print(result)"
   ]
  },
  {
   "cell_type": "markdown",
   "id": "df150339",
   "metadata": {},
   "source": [
    "# Question 2-  Create a dataframe using the dictionary below and remove everything (commas (,), !, XXXX, ;, etc.) from the columns except words.\n",
    "Dictionary- {'SUMMARY' : ['hello, world!', 'XXXXX test', '123four, five:; six...']}\n",
    "Expected output-\n",
    "0      hello world\n",
    "1             test\n",
    "2    four five six\n"
   ]
  },
  {
   "cell_type": "code",
   "execution_count": 10,
   "id": "36fb65f9",
   "metadata": {},
   "outputs": [
    {
     "name": "stdout",
     "output_type": "stream",
     "text": [
      "            SUMMARY\n",
      "0      hello  world\n",
      "1              test\n",
      "2  four  five   six\n"
     ]
    }
   ],
   "source": [
    "import pandas as pd\n",
    "\n",
    "data = {'SUMMARY': ['hello, world!', 'XXXXX test', '123four, five:; six...']}\n",
    "df = pd.DataFrame(data)\n",
    "df\n",
    "\n",
    "df['SUMMARY'] = df['SUMMARY'].str.replace(r'\\bX{5}|\\W|\\d',' ', regex = True)\n",
    "df['SUMMARY'] = df['SUMMARY'].str.strip()\n",
    "\n",
    "print(df)"
   ]
  },
  {
   "cell_type": "markdown",
   "id": "f57ec917",
   "metadata": {},
   "source": [
    "# Question 3- Create a function in python to find all words that are at least 4 characters long in a string. The use of the re.compile() method is mandatory."
   ]
  },
  {
   "cell_type": "code",
   "execution_count": 11,
   "id": "a8ff4070",
   "metadata": {},
   "outputs": [
    {
     "name": "stdout",
     "output_type": "stream",
     "text": [
      "['Abdul', 'Kalam', 'Indian', 'aerospace', 'scientist', 'also', 'known', 'Missile', 'India']\n"
     ]
    }
   ],
   "source": [
    "def find_longwords(input_string):\n",
    "    \n",
    "    pattern = re.compile(r'\\b\\w{4,}\\b')   \n",
    "    longwords = pattern.findall(input_string)\n",
    "    return longwords\n",
    "\n",
    "text = \"APJ Abdul Kalam was an Indian aerospace scientist also known as the Missile Man of India\"\n",
    "result = find_longwords(text)\n",
    "print(result)"
   ]
  },
  {
   "cell_type": "markdown",
   "id": "ac989f64",
   "metadata": {},
   "source": [
    "# Question 4- Create a function in python to find all three, four, and five character words in a string. The use of the re.compile() method is mandatory."
   ]
  },
  {
   "cell_type": "code",
   "execution_count": 12,
   "id": "0b2297ca",
   "metadata": {},
   "outputs": [
    {
     "name": "stdout",
     "output_type": "stream",
     "text": [
      "['APJ', 'Abdul', 'Kalam', 'was', 'also', 'known', 'the', 'Man', 'India']\n"
     ]
    }
   ],
   "source": [
    "def find_longwords(input_string):\n",
    "    \n",
    "    pattern = re.compile(r'\\b\\w{3,5}\\b')   \n",
    "    longwords = pattern.findall(input_string)\n",
    "    return longwords\n",
    "\n",
    "text = \"APJ Abdul Kalam was an Indian aerospace scientist also known as the Missile Man of India\"\n",
    "result = find_longwords(text)\n",
    "print(result)"
   ]
  },
  {
   "cell_type": "markdown",
   "id": "05bf1a11",
   "metadata": {},
   "source": [
    "# Question 5- Create a function in Python to remove the parenthesis in a list of strings. The use of the re.compile() method is mandatory.\n",
    "Sample Text: [\"example (.com)\", \"hr@fliprobo (.com)\", \"github (.com)\", \"Hello (Data Science World)\", \"Data (Scientist)\"]\n",
    "Expected Output:\n",
    "example.com\n",
    "hr@fliprobo.com\n",
    "github.com\n",
    "Hello Data Science World\n",
    "Data Scientist\n"
   ]
  },
  {
   "cell_type": "code",
   "execution_count": 13,
   "id": "63f4fa66",
   "metadata": {},
   "outputs": [
    {
     "name": "stdout",
     "output_type": "stream",
     "text": [
      "example .com\n",
      "hr@fliprobo .com\n",
      "github .com\n",
      "Hello Data Science World\n",
      "Data Scientist\n"
     ]
    }
   ],
   "source": [
    "def rem_paran(string):\n",
    "    pattern = re.compile(r'[()]')\n",
    "    new_string = [pattern.sub('', s) for s in string]\n",
    "    return new_string\n",
    "\n",
    "sample_text = [\"example (.com)\", \"hr@fliprobo (.com)\", \"github (.com)\", \"Hello (Data Science World)\", \"Data (Scientist)\"]\n",
    "result = rem_paran(sample_text)\n",
    "for i in result:\n",
    "    print(i)"
   ]
  },
  {
   "cell_type": "markdown",
   "id": "ed354d74",
   "metadata": {},
   "source": [
    "# Question 6- Write a python program to remove the parenthesis area from the text stored in the text file using Regular Expression.\n",
    "Sample Text: [\"example (.com)\", \"hr@fliprobo (.com)\", \"github (.com)\", \"Hello (Data Science World)\", \"Data (Scientist)\"]\n",
    "Expected Output: [\"example\", \"hr@fliprobo\", \"github\", \"Hello\", \"Data\"]\n",
    "Note- Store given sample text in the text file and then to remove the parenthesis area from the text.\n"
   ]
  },
  {
   "cell_type": "code",
   "execution_count": 14,
   "id": "e5f33489",
   "metadata": {},
   "outputs": [
    {
     "name": "stdout",
     "output_type": "stream",
     "text": [
      "['example', 'hr@fliprobo', 'github', 'Hello', 'Data']\n"
     ]
    }
   ],
   "source": [
    "def rem_paran(string):\n",
    "    pattern = re.compile(r'\\([^)]*\\)')\n",
    "    new_string = [pattern.sub('', s).strip() for s in string]\n",
    "    return new_string\n",
    "\n",
    "sample_text = [\"example (.com)\", \"hr@fliprobo (.com)\", \"github (.com)\", \"Hello (Data Science World)\", \"Data (Scientist)\"]\n",
    "result = rem_paran(sample_text)\n",
    "print(result)"
   ]
  },
  {
   "cell_type": "markdown",
   "id": "5a66dc25",
   "metadata": {},
   "source": [
    "# Question 7- Write a regular expression in Python to split a string into uppercase letters.\n",
    "Sample text: “ImportanceOfRegularExpressionsInPython”\n",
    "Expected Output: [‘Importance’, ‘Of’, ‘Regular’, ‘Expression’, ‘In’, ‘Python’]\n"
   ]
  },
  {
   "cell_type": "code",
   "execution_count": 15,
   "id": "536d9d6f",
   "metadata": {},
   "outputs": [
    {
     "name": "stdout",
     "output_type": "stream",
     "text": [
      "['Importance', 'Of', 'Regular', 'Expressions', 'In', 'Python']\n"
     ]
    }
   ],
   "source": [
    "sample_text = \"ImportanceOfRegularExpressionsInPython\"\n",
    "\n",
    "result = re.findall(r'[A-Z][a-z]*', sample_text)\n",
    "\n",
    "print(result)"
   ]
  },
  {
   "cell_type": "markdown",
   "id": "b1cb2910",
   "metadata": {},
   "source": [
    "# Question 8- Create a function in python to insert spaces between words starting with numbers.\n",
    "Sample Text: “RegularExpression1IsAn2ImportantTopic3InPython\"\n",
    "Expected Output: RegularExpression 1IsAn 2ImportantTopic 3InPython\n"
   ]
  },
  {
   "cell_type": "code",
   "execution_count": 16,
   "id": "7901e82e",
   "metadata": {},
   "outputs": [
    {
     "name": "stdout",
     "output_type": "stream",
     "text": [
      "RegularExpression1 IsAn2 ImportantTopic3 InPython\n"
     ]
    }
   ],
   "source": [
    "def insert_spaces(text):\n",
    "    # Use a regular expression to insert spaces before words starting with numbers\n",
    "    result = re.sub(r'(\\d)([A-Za-z])', r'\\1 \\2', text)\n",
    "    return result\n",
    "\n",
    "# Test the function with the sample text\n",
    "sample_text = \"RegularExpression1IsAn2ImportantTopic3InPython\"\n",
    "result = insert_spaces(sample_text)\n",
    "print(result)\n"
   ]
  },
  {
   "cell_type": "markdown",
   "id": "537c8efe",
   "metadata": {},
   "source": [
    "# Question 9- Create a function in python to insert spaces between words starting with capital letters or with numbers.\n",
    "Sample Text: “RegularExpression1IsAn2ImportantTopic3InPython\"\n",
    "Expected Output:  RegularExpression 1 IsAn 2 ImportantTopic 3 InPython\n"
   ]
  },
  {
   "cell_type": "code",
   "execution_count": 17,
   "id": "7b68fb2e",
   "metadata": {},
   "outputs": [
    {
     "name": "stdout",
     "output_type": "stream",
     "text": [
      "Regular Expression 1 Is An 2 Important Topic 3 In Python\n"
     ]
    }
   ],
   "source": [
    "def insert_spaces(text):\n",
    "    # Use a regular expression to insert spaces before words starting with capital letters or numbers\n",
    "    result = re.sub(r'(?<=[A-Z0-9])(?=[A-Z][a-z])|(?<=[a-z])(?=[0-9A-Z])', ' ', text)\n",
    "    return result\n",
    "\n",
    "# Test the function with the sample text\n",
    "sample_text = \"RegularExpression1IsAn2ImportantTopic3InPython\"\n",
    "result = insert_spaces(sample_text)\n",
    "print(result)"
   ]
  },
  {
   "cell_type": "markdown",
   "id": "1649e031",
   "metadata": {},
   "source": [
    "# Question 10- Use the github link below to read the data and create a dataframe. After creating the dataframe extract the first 6 letters of each country and store in the dataframe under a new column called first_five_letters.\n",
    "Github Link-  https://raw.githubusercontent.com/dsrscientist/DSData/master/happiness_score_dataset.csv\n"
   ]
  },
  {
   "cell_type": "code",
   "execution_count": 21,
   "id": "bf29d1a3",
   "metadata": {},
   "outputs": [
    {
     "name": "stdout",
     "output_type": "stream",
     "text": [
      "       Country first_five_letters\n",
      "0  Switzerland             Switze\n",
      "1      Iceland             Icelan\n",
      "2      Denmark             Denmar\n",
      "3       Norway             Norway\n",
      "4       Canada             Canada\n"
     ]
    }
   ],
   "source": [
    "url = \"https://raw.githubusercontent.com/dsrscientist/DSData/master/happiness_score_dataset.csv\"\n",
    "\n",
    "df = pd.read_csv(url)\n",
    "df\n",
    "df['first_five_letters'] = df['Country'].str[:6]\n",
    "print(df[['Country', 'first_five_letters']].head())"
   ]
  },
  {
   "cell_type": "markdown",
   "id": "d6591827",
   "metadata": {},
   "source": [
    "# Question 11- Write a Python program to match a string that contains only upper and lowercase letters, numbers, and underscores."
   ]
  },
  {
   "cell_type": "code",
   "execution_count": 25,
   "id": "7974eaf0",
   "metadata": {},
   "outputs": [
    {
     "name": "stdout",
     "output_type": "stream",
     "text": [
      "'Valid_String123' is a valid string.\n",
      "'Invalid String!' is not a valid string.\n",
      "'Another_Valid_String' is a valid string.\n",
      "'spaces are invalid' is not a valid string.\n"
     ]
    }
   ],
   "source": [
    "def valid_string(s):\n",
    "    pattern = re.compile(r'^[a-zA-Z0-9_]+$')\n",
    "    match = re.match(pattern, s)\n",
    "    return match is not None\n",
    "\n",
    "sample_strings = [\"Valid_String123\", \"Invalid String!\", \"Another_Valid_String\", \"spaces are invalid\"]\n",
    "for s in sample_strings:\n",
    "    if valid_string(s):\n",
    "        print(f\"'{s}' is a valid string.\")\n",
    "    else:\n",
    "        print(f\"'{s}' is not a valid string.\")"
   ]
  },
  {
   "cell_type": "markdown",
   "id": "fc079e0c",
   "metadata": {},
   "source": [
    "# Question 12- Write a Python program where a string will start with a specific number."
   ]
  },
  {
   "cell_type": "code",
   "execution_count": 3,
   "id": "8fb46f30",
   "metadata": {},
   "outputs": [
    {
     "name": "stdout",
     "output_type": "stream",
     "text": [
      "'123abc' starts with 123.\n",
      "'456xyz' does not start with 123.\n",
      "'abc123' does not start with 123.\n",
      "'789def' does not start with 123.\n"
     ]
    }
   ],
   "source": [
    "import re\n",
    "def starts_with_number(s, number):\n",
    "    number_str = str(number)\n",
    "    \n",
    "    return s.startswith(number_str)\n",
    "\n",
    "sample_strings = [\"123abc\", \"456xyz\", \"abc123\", \"789def\"]\n",
    "specific_number = 123\n",
    "\n",
    "for s in sample_strings:\n",
    "    if starts_with_number(s, specific_number):\n",
    "        print(f\"'{s}' starts with {specific_number}.\")\n",
    "    else:\n",
    "        print(f\"'{s}' does not start with {specific_number}.\")"
   ]
  },
  {
   "cell_type": "markdown",
   "id": "cef6b8b7",
   "metadata": {},
   "source": [
    "# Question 13- Write a Python program to remove leading zeros from an IP address"
   ]
  },
  {
   "cell_type": "code",
   "execution_count": 11,
   "id": "9da0e7bb",
   "metadata": {},
   "outputs": [
    {
     "name": "stdout",
     "output_type": "stream",
     "text": [
      "192.168.2.3\n"
     ]
    }
   ],
   "source": [
    "def remove_leading_zeros(ip_address):\n",
    "    \n",
    "    octets = ip_address.split('.')\n",
    "       \n",
    "    cleaned_octets = [str(int(octet)) for octet in octets]\n",
    "    \n",
    "    cleaned_ip = '.'.join(cleaned_octets)\n",
    "    \n",
    "    return cleaned_ip\n",
    "\n",
    "ip_address = \"192.168.002.003\"\n",
    "cleaned_ip = remove_leading_zeros(ip_address)\n",
    "print(cleaned_ip)"
   ]
  },
  {
   "cell_type": "markdown",
   "id": "905bc04f",
   "metadata": {},
   "source": [
    "# Question 14- Write a regular expression in python to match a date string in the form of Month name followed by day number and year stored in a text file.\n",
    "Sample text :  ' On August 15th 1947 that India was declared independent from British colonialism, and the reins of control were handed over to the leaders of the Country’.\n",
    "Expected Output- August 15th 1947\n",
    "Note- Store given sample text in the text file and then extract the date string asked format.\n"
   ]
  },
  {
   "cell_type": "code",
   "execution_count": 1,
   "id": "71bb9ea1",
   "metadata": {},
   "outputs": [
    {
     "name": "stdout",
     "output_type": "stream",
     "text": [
      "August 15th 1947\n"
     ]
    }
   ],
   "source": [
    "import re\n",
    "\n",
    "sample_text = \"On August 15th 1947 that India was declared independent from British colonialism, and the reins of control were handed over to the leaders of the Country.\"\n",
    "\n",
    "pattern = r'\\b([A-Z][a-z]+ \\d{1,2}(?:st|nd|rd|th)? \\d{4})\\b'\n",
    "\n",
    "matches = re.findall(pattern, sample_text)\n",
    "\n",
    "for match in matches:\n",
    "    print(match)"
   ]
  },
  {
   "cell_type": "markdown",
   "id": "78ae3451",
   "metadata": {},
   "source": [
    "# Question 15- Write a Python program to search some literals strings in a string. \n",
    "Sample text : 'The quick brown fox jumps over the lazy dog.'\n",
    "Searched words : 'fox', 'dog', 'horse'\n"
   ]
  },
  {
   "cell_type": "code",
   "execution_count": 2,
   "id": "c9c5cd42",
   "metadata": {},
   "outputs": [
    {
     "name": "stdout",
     "output_type": "stream",
     "text": [
      "'fox' is found in the text.\n",
      "'dog' is found in the text.\n",
      "'horse' is not found in the text.\n"
     ]
    }
   ],
   "source": [
    "sample_text = 'The quick brown fox jumps over the lazy dog.'\n",
    "searched_words = ['fox', 'dog', 'horse']\n",
    "\n",
    "for word in searched_words:\n",
    "    if word in sample_text:\n",
    "        print(f\"'{word}' is found in the text.\")\n",
    "    else:\n",
    "        print(f\"'{word}' is not found in the text.\")"
   ]
  },
  {
   "cell_type": "markdown",
   "id": "8ca25bf3",
   "metadata": {},
   "source": [
    "# Question 16- Write a Python program to search a literals string in a string and also find the location within the original string where the pattern occurs\n",
    "Sample text : 'The quick brown fox jumps over the lazy dog.'\n",
    "Searched words : 'fox'\n"
   ]
  },
  {
   "cell_type": "code",
   "execution_count": 3,
   "id": "b90598fb",
   "metadata": {},
   "outputs": [
    {
     "name": "stdout",
     "output_type": "stream",
     "text": [
      "'fox' is found in the text at index 16.\n"
     ]
    }
   ],
   "source": [
    "sample_text = 'The quick brown fox jumps over the lazy dog.'\n",
    "searched_word = 'fox'\n",
    "\n",
    "if searched_word in sample_text:\n",
    "    index = sample_text.find(searched_word)\n",
    "    print(f\"'{searched_word}' is found in the text at index {index}.\")\n",
    "else:\n",
    "    print(f\"'{searched_word}' is not found in the text.\")"
   ]
  },
  {
   "cell_type": "markdown",
   "id": "7048023e",
   "metadata": {},
   "source": [
    "# Question 17- Write a Python program to find the substrings within a string.\n",
    "Sample text : 'Python exercises, PHP exercises, C# exercises'\n",
    "Pattern : 'exercises'.\n"
   ]
  },
  {
   "cell_type": "code",
   "execution_count": 4,
   "id": "5d99bd3e",
   "metadata": {},
   "outputs": [
    {
     "name": "stdout",
     "output_type": "stream",
     "text": [
      "'exercises' found at index 7\n",
      "'exercises' found at index 22\n",
      "'exercises' found at index 36\n"
     ]
    }
   ],
   "source": [
    "sample_text = 'Python exercises, PHP exercises, C# exercises'\n",
    "pattern = 'exercises'\n",
    "\n",
    "start = 0\n",
    "while start < len(sample_text):\n",
    "    index = sample_text.find(pattern, start)\n",
    "    if index == -1:\n",
    "        break\n",
    "    print(f\"'{pattern}' found at index {index}\")\n",
    "    start = index + 1"
   ]
  },
  {
   "cell_type": "markdown",
   "id": "a065a2b7",
   "metadata": {},
   "source": [
    "# Question 18- Write a Python program to find the occurrence and position of the substrings within a string."
   ]
  },
  {
   "cell_type": "code",
   "execution_count": 5,
   "id": "07d68414",
   "metadata": {},
   "outputs": [
    {
     "name": "stdout",
     "output_type": "stream",
     "text": [
      "'exercises' found at position 7, occurrence 1\n",
      "'exercises' found at position 22, occurrence 2\n",
      "'exercises' found at position 36, occurrence 3\n"
     ]
    }
   ],
   "source": [
    "sample_text = 'Python exercises, PHP exercises, C# exercises'\n",
    "pattern = 'exercises'\n",
    "\n",
    "start = 0\n",
    "occurrence = 0\n",
    "\n",
    "while start < len(sample_text):\n",
    "    index = sample_text.find(pattern, start)\n",
    "    if index == -1:\n",
    "        break\n",
    "    print(f\"'{pattern}' found at position {index}, occurrence {occurrence + 1}\")\n",
    "    start = index + 1\n",
    "    occurrence += 1\n",
    "\n",
    "if occurrence == 0:\n",
    "    print(f\"'{pattern}' not found in the text.\")"
   ]
  },
  {
   "cell_type": "markdown",
   "id": "d1345c9c",
   "metadata": {},
   "source": [
    "# Question 19- Write a Python program to convert a date of yyyy-mm-dd format to dd-mm-yyyy format."
   ]
  },
  {
   "cell_type": "code",
   "execution_count": 7,
   "id": "5e62e374",
   "metadata": {},
   "outputs": [
    {
     "name": "stdout",
     "output_type": "stream",
     "text": [
      "29-10-2023\n"
     ]
    }
   ],
   "source": [
    "from datetime import datetime\n",
    "\n",
    "input_date = \"2023-10-29\"\n",
    "\n",
    "date_object = datetime.strptime(input_date, \"%Y-%m-%d\")\n",
    "\n",
    "formatted_date = date_object.strftime(\"%d-%m-%Y\")\n",
    "\n",
    "print(formatted_date)"
   ]
  },
  {
   "cell_type": "markdown",
   "id": "54eeb9ea",
   "metadata": {},
   "source": [
    "# Question 20- Create a function in python to find all decimal numbers with a precision of 1 or 2 in a string. The use of the re.compile() method is mandatory.\n",
    "Sample Text: \"01.12 0132.123 2.31875 145.8 3.01 27.25 0.25\"\n",
    "Expected Output: ['01.12', '145.8', '3.01', '27.25', '0.25']\n"
   ]
  },
  {
   "cell_type": "code",
   "execution_count": 9,
   "id": "0f3aeca2",
   "metadata": {},
   "outputs": [
    {
     "name": "stdout",
     "output_type": "stream",
     "text": [
      "['01.12', '145.8', '3.01', '27.25', '0.25']\n"
     ]
    }
   ],
   "source": [
    "def find_decimal_numbers(text):\n",
    " \n",
    "    pattern = re.compile(r'\\b\\d+\\.\\d{1,2}\\b')\n",
    "\n",
    "    matches = pattern.findall(text)\n",
    "\n",
    "    return matches\n",
    "\n",
    "sample_text = \"01.12 0132.123 2.31875 145.8 3.01 27.25 0.25\"\n",
    "result = find_decimal_numbers(sample_text)\n",
    "print(result)"
   ]
  },
  {
   "cell_type": "markdown",
   "id": "4c7891e2",
   "metadata": {},
   "source": [
    "# Question 21- Write a Python program to separate and print the numbers and their position of a given string."
   ]
  },
  {
   "cell_type": "code",
   "execution_count": 10,
   "id": "ec320800",
   "metadata": {},
   "outputs": [
    {
     "name": "stdout",
     "output_type": "stream",
     "text": [
      "Number: 19, Position: 14-15\n",
      "Number: 99, Position: 17-18\n",
      "Number: 50, Position: 41-42\n"
     ]
    }
   ],
   "source": [
    "def separate_numbers_and_positions(text):\n",
    "    pattern = re.compile(r'\\d+')\n",
    "\n",
    "    matches = pattern.finditer(text)\n",
    "\n",
    "    for match in matches:\n",
    "        number = match.group(0)\n",
    "        start = match.start()\n",
    "        end = match.end()\n",
    "        print(f\"Number: {number}, Position: {start}-{end-1}\")\n",
    "\n",
    "sample_text = \"The price is $19.99, and the quantity is 50.\"\n",
    "separate_numbers_and_positions(sample_text)"
   ]
  },
  {
   "cell_type": "markdown",
   "id": "fb8d14db",
   "metadata": {},
   "source": [
    "# Question 22- Write a regular expression in python program to extract maximum/largest numeric value from a string.\n",
    "Sample Text:  'My marks in each semester are: 947, 896, 926, 524, 734, 950, 642'\n",
    "Expected Output: 950\n"
   ]
  },
  {
   "cell_type": "code",
   "execution_count": 12,
   "id": "c81d07c9",
   "metadata": {},
   "outputs": [
    {
     "name": "stdout",
     "output_type": "stream",
     "text": [
      "Maximum numeric value: 950\n"
     ]
    }
   ],
   "source": [
    "def extract_maximum_numeric_value(text):\n",
    "    pattern = re.compile(r'\\b\\d+\\b')\n",
    "\n",
    "    matches = pattern.findall(text)\n",
    "\n",
    "    if matches:\n",
    "        max_numeric_value = max(map(int, matches))\n",
    "        return max_numeric_value\n",
    "    else:\n",
    "        return None\n",
    "\n",
    "sample_text = 'My marks in each semester are: 947, 896, 926, 524, 734, 950, 642'\n",
    "result = extract_maximum_numeric_value(sample_text)\n",
    "\n",
    "if result is not None:\n",
    "    print(f\"Maximum numeric value: {result}\")\n",
    "else:\n",
    "    print(\"No numeric values found in the text.\")"
   ]
  },
  {
   "cell_type": "markdown",
   "id": "51f8542e",
   "metadata": {},
   "source": [
    "# Question 23- Create a function in python to insert spaces between words starting with capital letters.\n",
    "Sample Text: “RegularExpressionIsAnImportantTopicInPython\"\n",
    "Expected Output: Regular Expression Is An Important Topic In Python\n"
   ]
  },
  {
   "cell_type": "code",
   "execution_count": 13,
   "id": "649f9e91",
   "metadata": {},
   "outputs": [
    {
     "name": "stdout",
     "output_type": "stream",
     "text": [
      "Regular Expression Is An Important Topic In Python\n"
     ]
    }
   ],
   "source": [
    "def insert_spaces_between_capital_words(text):\n",
    "    pattern = re.compile(r'(?<=[a-z])(?=[A-Z])')\n",
    "\n",
    "    modified_text = pattern.sub(' ', text)\n",
    "\n",
    "    modified_text = ' '.join(word.capitalize() for word in modified_text.split())\n",
    "\n",
    "    return modified_text\n",
    "\n",
    "sample_text = \"RegularExpressionIsAnImportantTopicInPython\"\n",
    "result = insert_spaces_between_capital_words(sample_text)\n",
    "print(result)"
   ]
  },
  {
   "cell_type": "markdown",
   "id": "56f7b8d7",
   "metadata": {},
   "source": [
    "# Question 24- Python regex to find sequences of one upper case letter followed by lower case letters"
   ]
  },
  {
   "cell_type": "code",
   "execution_count": 1,
   "id": "3bf73181",
   "metadata": {},
   "outputs": [
    {
     "name": "stdout",
     "output_type": "stream",
     "text": [
      "['This', 'Sample', 'Sequences', 'One', 'This', 'And', 'Another']\n"
     ]
    }
   ],
   "source": [
    "import re\n",
    "\n",
    "text = \"This is a Sample text with Sequences of One uppercase letter followed by lowercase letters like This, And Another one here.\"\n",
    "\n",
    "pattern = r'[A-Z][a-z]+'\n",
    "\n",
    "matches = re.findall(pattern, text)\n",
    "\n",
    "print(matches)"
   ]
  },
  {
   "cell_type": "markdown",
   "id": "56f0d334",
   "metadata": {},
   "source": [
    "# Question 25- Write a Python program to remove continuous duplicate words from Sentence using Regular Expression.\n",
    "Sample Text: \"Hello hello world world\"\n",
    "Expected Output: Hello hello world\n"
   ]
  },
  {
   "cell_type": "code",
   "execution_count": 2,
   "id": "86a11432",
   "metadata": {},
   "outputs": [
    {
     "name": "stdout",
     "output_type": "stream",
     "text": [
      "Hello hello world\n"
     ]
    }
   ],
   "source": [
    "text = \"Hello hello world world\"\n",
    "\n",
    "pattern = r'\\b(\\w+)( \\1)+\\b'\n",
    "\n",
    "modified_text = re.sub(pattern, r'\\1', text)\n",
    "\n",
    "print(modified_text)"
   ]
  },
  {
   "cell_type": "markdown",
   "id": "696c309c",
   "metadata": {},
   "source": [
    "# Question 26-  Write a python program using RegEx to accept string ending with alphanumeric character."
   ]
  },
  {
   "cell_type": "code",
   "execution_count": 3,
   "id": "6427ecf7",
   "metadata": {},
   "outputs": [
    {
     "name": "stdout",
     "output_type": "stream",
     "text": [
      "'Hello123' ends with an alphanumeric character.\n",
      "'Test@' does not end with an alphanumeric character.\n"
     ]
    }
   ],
   "source": [
    "text = \"Hello123\"\n",
    "text2 = \"Test@\"\n",
    "\n",
    "pattern = r'\\w$'\n",
    "\n",
    "match = re.search(pattern, text)\n",
    "match2 = re.search(pattern, text2)\n",
    "\n",
    "if match:\n",
    "    print(f\"'{text}' ends with an alphanumeric character.\")\n",
    "else:\n",
    "    print(f\"'{text}' does not end with an alphanumeric character.\")\n",
    "\n",
    "if match2:\n",
    "    print(f\"'{text2}' ends with an alphanumeric character.\")\n",
    "else:\n",
    "    print(f\"'{text2}' does not end with an alphanumeric character.\")"
   ]
  },
  {
   "cell_type": "markdown",
   "id": "d622efcc",
   "metadata": {},
   "source": [
    "# Question 27-Write a python program using RegEx to extract the hashtags.\n",
    "Sample Text:  \"\"\"RT @kapil_kausik: #Doltiwal I mean #xyzabc is \"hurt\" by #Demonetization as the same has rendered USELESS <ed><U+00A0><U+00BD><ed><U+00B1><U+0089> \"acquired funds\" No wo\"\"\"\n",
    "Expected Output: ['#Doltiwal', '#xyzabc', '#Demonetization']\n"
   ]
  },
  {
   "cell_type": "code",
   "execution_count": 4,
   "id": "a1a84559",
   "metadata": {},
   "outputs": [
    {
     "name": "stdout",
     "output_type": "stream",
     "text": [
      "['#Doltiwal', '#xyzabc', '#Demonetization']\n"
     ]
    }
   ],
   "source": [
    "text = \"\"\"RT @kapil_kausik: #Doltiwal I mean #xyzabc is \"hurt\" by #Demonetization as the same has rendered USELESS <ed><U+00A0><U+00BD><ed><U+00B1><U+0089> \"acquired funds\" No wo\"\"\"\n",
    "\n",
    "pattern = r'#\\w+'\n",
    "\n",
    "hashtags = re.findall(pattern, text)\n",
    "\n",
    "print(hashtags)"
   ]
  },
  {
   "cell_type": "markdown",
   "id": "40258082",
   "metadata": {},
   "source": [
    "# Question 28- Write a python program using RegEx to remove <U+..> like symbols\n",
    "Check the below sample text, there are strange symbols something of the sort <U+..> all over the place. You need to come up with a general Regex expression that will cover all such symbols.\n",
    "Sample Text: \"@Jags123456 Bharat band on 28??<ed><U+00A0><U+00BD><ed><U+00B8><U+0082>Those who  are protesting #demonetization  are all different party leaders\"\n",
    "Expected Output: @Jags123456 Bharat band on 28??<ed><ed>Those who  are protesting #demonetization  are all different party leaders\n"
   ]
  },
  {
   "cell_type": "code",
   "execution_count": 6,
   "id": "16e9ff07",
   "metadata": {},
   "outputs": [
    {
     "name": "stdout",
     "output_type": "stream",
     "text": [
      "@Jags123456 Bharat band on 28??<ed><ed>Those who are protesting #demonetization are all different party leaders\n"
     ]
    }
   ],
   "source": [
    "text = \"@Jags123456 Bharat band on 28??<ed><U+00A0><U+00BD><ed><U+00B8><U+0082>Those who are protesting #demonetization are all different party leaders\"\n",
    "\n",
    "pattern = r'<U\\+[\\w]+>'\n",
    "\n",
    "modified_text = re.sub(pattern, '', text)\n",
    "\n",
    "print(modified_text)\n"
   ]
  },
  {
   "cell_type": "markdown",
   "id": "104ab035",
   "metadata": {},
   "source": [
    "# Question 29- Write a python program to extract dates from the text stored in the text file.\n",
    "Sample Text: Ron was born on 12-09-1992 and he was admitted to school 15-12-1999.\n",
    "Note- Store this sample text in the file and then extract dates.\n"
   ]
  },
  {
   "cell_type": "code",
   "execution_count": 7,
   "id": "ed2bc97f",
   "metadata": {},
   "outputs": [
    {
     "name": "stdout",
     "output_type": "stream",
     "text": [
      "Sample text has been stored in 'sample_text.txt'\n"
     ]
    }
   ],
   "source": [
    "sample_text = \"Ron was born on 12-09-1992 and he was admitted to school 15-12-1999.\"\n",
    "\n",
    "file_path = \"sample_text.txt\"\n",
    "\n",
    "with open(file_path, \"w\") as file:\n",
    "    file.write(sample_text)\n",
    "\n",
    "print(f\"Sample text has been stored in '{file_path}'\")"
   ]
  },
  {
   "cell_type": "code",
   "execution_count": 8,
   "id": "aca0b149",
   "metadata": {},
   "outputs": [
    {
     "name": "stdout",
     "output_type": "stream",
     "text": [
      "Extracted dates: 12-09-1992 and 15-12-1999\n"
     ]
    }
   ],
   "source": [
    "file_path = 'sample_text.txt'\n",
    "\n",
    "try:\n",
    "    with open(file_path, 'r') as file:\n",
    "        text = file.read()\n",
    "\n",
    "        pattern = r'\\d{2}-\\d{2}-\\d{4}'\n",
    "\n",
    "        dates = re.findall(pattern, text)\n",
    "\n",
    "        if dates:\n",
    "            extracted_dates = ' and '.join(dates)\n",
    "            print(\"Extracted dates:\", extracted_dates)\n",
    "        else:\n",
    "            print(\"No dates found in the text.\")\n",
    "\n",
    "except FileNotFoundError:\n",
    "    print(f\"File '{file_path}' not found.\")\n"
   ]
  },
  {
   "cell_type": "markdown",
   "id": "cbc23a78",
   "metadata": {},
   "source": [
    "# Question 30- Create a function in python to remove all words from a string of length between 2 and 4.\n",
    "The use of the re.compile() method is mandatory.\n",
    "Sample Text: \"The following example creates an ArrayList with a capacity of 50 elements. 4 elements are then added to the ArrayList and the ArrayList is trimmed accordingly.\"\n",
    "Expected Output:  following example creates ArrayList a capacity elements. 4 elements added ArrayList ArrayList trimmed accordingly.\n"
   ]
  },
  {
   "cell_type": "code",
   "execution_count": 9,
   "id": "2071f3f1",
   "metadata": {},
   "outputs": [
    {
     "name": "stdout",
     "output_type": "stream",
     "text": [
      "following example creates ArrayList a capacity elements. 4 elements added ArrayList ArrayList trimmed accordingly.\n"
     ]
    }
   ],
   "source": [
    "def remove_words_between_lengths(text):\n",
    "    pattern = re.compile(r'\\b\\w{2,4}\\b')\n",
    "\n",
    "    modified_text = pattern.sub('', text)\n",
    "\n",
    "    modified_text = ' '.join(modified_text.split())\n",
    "\n",
    "    return modified_text\n",
    "\n",
    "sample_text = \"The following example creates an ArrayList with a capacity of 50 elements. 4 elements are then added to the ArrayList and the ArrayList is trimmed accordingly.\"\n",
    "\n",
    "result = remove_words_between_lengths(sample_text)\n",
    "print(result)"
   ]
  },
  {
   "cell_type": "code",
   "execution_count": null,
   "id": "fcc6a55f",
   "metadata": {},
   "outputs": [],
   "source": []
  }
 ],
 "metadata": {
  "kernelspec": {
   "display_name": "Python 3 (ipykernel)",
   "language": "python",
   "name": "python3"
  },
  "language_info": {
   "codemirror_mode": {
    "name": "ipython",
    "version": 3
   },
   "file_extension": ".py",
   "mimetype": "text/x-python",
   "name": "python",
   "nbconvert_exporter": "python",
   "pygments_lexer": "ipython3",
   "version": "3.10.9"
  }
 },
 "nbformat": 4,
 "nbformat_minor": 5
}
